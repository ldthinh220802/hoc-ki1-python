{
  "nbformat": 4,
  "nbformat_minor": 0,
  "metadata": {
    "colab": {
      "name": "link_hopLe.ipynb",
      "provenance": [],
      "authorship_tag": "ABX9TyNrAeIXdpV9zSc4YUfZzp6Q",
      "include_colab_link": true
    },
    "kernelspec": {
      "name": "python3",
      "display_name": "Python 3"
    }
  },
  "cells": [
    {
      "cell_type": "markdown",
      "metadata": {
        "id": "view-in-github",
        "colab_type": "text"
      },
      "source": [
        "<a href=\"https://colab.research.google.com/github/ldthinh220802/hoc-ki1-python/blob/main/link_hopLe.ipynb\" target=\"_parent\"><img src=\"https://colab.research.google.com/assets/colab-badge.svg\" alt=\"Open In Colab\"/></a>"
      ]
    },
    {
      "cell_type": "code",
      "metadata": {
        "colab": {
          "base_uri": "https://localhost:8080/"
        },
        "id": "13EGqJF-1Hdk",
        "outputId": "c36c53a4-2d4e-47a8-894a-e0271a975765"
      },
      "source": [
        "import re\r\n",
        "import requests\r\n",
        "from bs4 import BeautifulSoup\r\n",
        "\r\n",
        "\r\n",
        "\r\n",
        "link = requests.get('https://vietnamnet.vn/')\r\n",
        "link_soup = BeautifulSoup(link.text,'html.parser')\r\n",
        "results = link_soup('a', attrs={'href':True})\r\n",
        "\r\n",
        "url_pro = set()\r\n",
        "for i in results:\r\n",
        "    a = i['href']\r\n",
        "    mau = '^(http).*(html|epi)$'\r\n",
        "    mau2 = '^/.*(html|epi)$'\r\n",
        "    if re.match(mau, a):\r\n",
        "        url_pro.add(a)\r\n",
        "    else:\r\n",
        "        if re.match(mau2, a):\r\n",
        "            url_no_pro = 'https://vietnamnet.vn' + a\r\n",
        "            url_pro.add(url_no_pro)\r\n",
        "list(url_pro)[0:10]"
      ],
      "execution_count": 2,
      "outputs": [
        {
          "output_type": "execute_result",
          "data": {
            "text/plain": [
              "['https://vietnamnet.vn/vn/su-kien/noel-2020-y-nghia-qua-tang-va-loi-chuc-le-giang-sinh-2020-592656.html',\n",
              " 'https://vietnamnet.vn/vn/kinh-doanh/thi-truong/gia-bia-nuoc-ngot-tang-703816.html',\n",
              " 'https://vietnamnet.vn/vn/doi-song/gioi-tre/khau-trang-chua-muon-lay-chong-no-ro-vao-dip-tet-707714.html',\n",
              " 'https://vietnamnet.vn/vn/cong-nghe/ung-dung/trien-khai-ban-do-chung-song-an-toan-voi-covid-cho-cac-phuong-tien-van-tai-hanh-khach-707115.html',\n",
              " 'https://vietnamnet.vn/vn/tuanvietnam/viet-nam-hung-cuong/kinh-te-chong-chiu-deo-dai-tu-dai-dich-covid-19-707197.html',\n",
              " 'https://ictnews.vietnamnet.vn/cuoc-song-so/giac-mo-cong-nghe-va-tham-vong-cua-nguoi-giau-nhat-an-do-275625.html',\n",
              " 'https://vietnamnet.vn/vn/hop-tac/cong-nghiep-ho-tro/chinh-sach-va-thi-truong/hieu-truong-truong-cd-co-dien-hn-chung-toi-moi-doanh-nghiep-vao-cung-dao-tao-700945.html',\n",
              " 'https://vietnamnet.vn/vn/tuanvietnam/tieudiem/nhat-ban-buoc-vao-cuoc-chien-cong-ham-ve-bien-dong-707656.html',\n",
              " 'https://vietnamnet.vn/vn/thoi-su/chinh-tri/co-cau-thanh-phan-dai-bieu-du-dai-hoi-xiii-707666.html',\n",
              " 'https://vietnamnet.vn/vn/the-gioi/ho-so/duong-toi-nha-trang-day-chong-gai-cua-tong-thong-my-thu-46-706527.html']"
            ]
          },
          "metadata": {
            "tags": []
          },
          "execution_count": 2
        }
      ]
    }
  ]
}