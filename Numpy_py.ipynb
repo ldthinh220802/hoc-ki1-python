{
  "nbformat": 4,
  "nbformat_minor": 0,
  "metadata": {
    "colab": {
      "name": "Numpy.py",
      "provenance": [],
      "authorship_tag": "ABX9TyMCMPEZufLi42/lfwbOKUp1",
      "include_colab_link": true
    },
    "kernelspec": {
      "name": "python3",
      "display_name": "Python 3"
    }
  },
  "cells": [
    {
      "cell_type": "markdown",
      "metadata": {
        "id": "view-in-github",
        "colab_type": "text"
      },
      "source": [
        "<a href=\"https://colab.research.google.com/github/ldthinh220802/hoc-ki1-python/blob/main/Numpy_py.ipynb\" target=\"_parent\"><img src=\"https://colab.research.google.com/assets/colab-badge.svg\" alt=\"Open In Colab\"/></a>"
      ]
    },
    {
      "cell_type": "code",
      "metadata": {
        "id": "U0XK2EP9NWRP"
      },
      "source": [
        "import numpy as np\r\n",
        "\r\n",
        "n = int(input('so hang ma tran 1 = '))\r\n",
        "m = int(input('so cot ma tran 1 (so hang ma tran 2)= '))\r\n",
        "mt2 = np.random.randint(0,9,(n,m))\r\n",
        "y = int(input('so cot ma tran 2 = '))\r\n",
        "mt1 = np.random.randint(0,9,(m,y))\r\n",
        "  \r\n",
        "\r\n",
        "\r\n",
        "def chuyen_vi(n) :\r\n",
        "    aa = np.transpose(n)\r\n",
        "    return aa\r\n",
        "\r\n",
        "\r\n",
        "\r\n",
        "def nghich_dao(n) :\r\n",
        "   bb = np.linalg.pinv(n)\r\n",
        "   return bb\r\n",
        "\r\n",
        "\r\n",
        "print('ma_tran_1',mt1)\r\n",
        "print('ma_tran_2',mt2)\r\n",
        "print('ma tran 1 chuyen vị ',chuyen_vi(mt1))\r\n",
        "print('ma tran 2 chuyen vị ',chuyen_vi(mt2))\r\n",
        "print('ma tran 1 nghich dao ',nghich_dao(mt1))\r\n",
        "print('ma tran 2 nghich dao ',nghich_dao(mt2))\r\n",
        "print('nhan hai ma tran',mt1.dot(mt2))\r\n",
        "print(\"\"\"cong ma tran voi 3\r\n",
        "ma tran 1 \"\"\",mt1 + 3,\"\"\"\r\n",
        "ma tran 2\"\"\",mt2 + 3)"
      ],
      "execution_count": null,
      "outputs": []
    }
  ]
}