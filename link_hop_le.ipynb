{
  "nbformat": 4,
  "nbformat_minor": 0,
  "metadata": {
    "colab": {
      "name": "link_hop_le.ipynb",
      "provenance": [],
      "authorship_tag": "ABX9TyNWERIHsIj2JNMpBB1SoSMW",
      "include_colab_link": true
    },
    "kernelspec": {
      "name": "python3",
      "display_name": "Python 3"
    }
  },
  "cells": [
    {
      "cell_type": "markdown",
      "metadata": {
        "id": "view-in-github",
        "colab_type": "text"
      },
      "source": [
        "<a href=\"https://colab.research.google.com/github/ldthinh220802/hoc-ki1-python/blob/main/link_hop_le.ipynb\" target=\"_parent\"><img src=\"https://colab.research.google.com/assets/colab-badge.svg\" alt=\"Open In Colab\"/></a>"
      ]
    },
    {
      "cell_type": "markdown",
      "metadata": {
        "id": "KB5biZcAxJet"
      },
      "source": [
        "**reGex**"
      ]
    },
    {
      "cell_type": "code",
      "metadata": {
        "id": "TMaZGAu8qkV9"
      },
      "source": [
        "import re\r\n",
        "import requests\r\n",
        "from bs4 import BeautifulSoup\r\n",
        "\r\n",
        "\r\n",
        "\r\n",
        "link = requests.get('https://vietnamnet.vn/')\r\n",
        "link_soup = BeautifulSoup(link.text,'html.parser')\r\n",
        "results = link_soup('a', attrs={'href':True})\r\n",
        "a= set()\r\n",
        "for i in results:\r\n",
        "    a.add(i['href'])\r\n",
        "\r\n",
        "mau = '^(http).*(html)$'\r\n",
        "url_1 = 'https://vietnamnet.vn/vn/su-kien/diego-maradona-qua-doi-692831.html'\r\n",
        "url_2 = 'https://vietnamnet.vn/vn/tuanvietnam/dachieu/cu-soc-dai-dich-covid-19-co-trong-nguy-695215.html'"
      ],
      "execution_count": 30,
      "outputs": []
    },
    {
      "cell_type": "code",
      "metadata": {
        "colab": {
          "base_uri": "https://localhost:8080/"
        },
        "id": "9iTqtZHAxcaG",
        "outputId": "bb865221-7fb9-43e0-cad0-f406fb3fa52e"
      },
      "source": [
        "re.match(mau,url_1)"
      ],
      "execution_count": 31,
      "outputs": [
        {
          "output_type": "execute_result",
          "data": {
            "text/plain": [
              "<_sre.SRE_Match object; span=(0, 67), match='https://vietnamnet.vn/vn/su-kien/diego-maradona-q>"
            ]
          },
          "metadata": {
            "tags": []
          },
          "execution_count": 31
        }
      ]
    },
    {
      "cell_type": "code",
      "metadata": {
        "colab": {
          "base_uri": "https://localhost:8080/"
        },
        "id": "txp6shIlxbOu",
        "outputId": "7cbf2197-0679-4299-9f37-aca81806d4ce"
      },
      "source": [
        "re.match(mau,url_2)"
      ],
      "execution_count": 32,
      "outputs": [
        {
          "output_type": "execute_result",
          "data": {
            "text/plain": [
              "<_sre.SRE_Match object; span=(0, 95), match='https://vietnamnet.vn/vn/tuanvietnam/dachieu/cu-s>"
            ]
          },
          "metadata": {
            "tags": []
          },
          "execution_count": 32
        }
      ]
    },
    {
      "cell_type": "markdown",
      "metadata": {
        "id": "StrYIImaxmfb"
      },
      "source": [
        "**Tìm Link hợp Lý**"
      ]
    },
    {
      "cell_type": "code",
      "metadata": {
        "colab": {
          "base_uri": "https://localhost:8080/"
        },
        "id": "uBPbxTjhxmIW",
        "outputId": "bf7b537c-3e03-40fa-d36d-7b602b1ea865"
      },
      "source": [
        "url_pro = set()\r\n",
        "for i in results:\r\n",
        "    a = i['href']\r\n",
        "    mau = '^(http).*(html|epi)$'\r\n",
        "    mau2 = '^/.*(html|epi)$'\r\n",
        "    if re.match(mau, a):\r\n",
        "        url_pro.add(a)\r\n",
        "    else:\r\n",
        "        if re.match(mau2, a):\r\n",
        "            url_no_pro = 'https://vietnamnet.vn' + a\r\n",
        "            url_pro.add(url_no_pro)\r\n",
        "list(url_pro)[0:10]"
      ],
      "execution_count": 34,
      "outputs": [
        {
          "output_type": "execute_result",
          "data": {
            "text/plain": [
              "['https://vietnamnet.vn/vn/giao-duc/nguoi-thay/co-giao-lop-4-truong-lang-nhan-danh-hieu-nha-giao-nhan-dan-707228.html',\n",
              " 'https://vietnamnet.vn/vn/su-kien/noel-2020-y-nghia-qua-tang-va-loi-chuc-le-giang-sinh-2020-592656.html',\n",
              " 'https://vietnamnet.vn/vn/bat-dong-san/du-an/tp-hcm-se-cong-khai-cac-du-an-the-chap-ngan-hang-giam-so-hong-cua-cu-dan-707786.html',\n",
              " 'https://vietnamnet.vn/vn/doi-song/gia-dinh/ca-nha-chong-ban-tan-voi-li-xi-cua-dau-moi-707918.html',\n",
              " 'https://vietnamnet.vn/vn/thi-truong-tieu-dung/5-mau-ao-khoac-trendy-cho-cac-chang-trai-dip-tet-nguyen-dan-706756.html',\n",
              " 'https://vietnamnet.vn/vn/tuanvietnam/viet-nam-hung-cuong/kinh-te-chong-chiu-deo-dai-tu-dai-dich-covid-19-707197.html',\n",
              " 'https://vietnamnet.vn/vn/hop-tac/cong-nghiep-ho-tro/chinh-sach-va-thi-truong/hieu-truong-truong-cd-co-dien-hn-chung-toi-moi-doanh-nghiep-vao-cung-dao-tao-700945.html',\n",
              " 'https://vietnamnet.vn/vn/thi-truong-tieu-dung/canh-giac-voi-hang-nhai-hang-ghe-massage-fujikashi-706845.html',\n",
              " 'https://2sao.vn/xon-xao-anh-hoa-minzy-mac-ao-dai-do-chuan-bi-lam-le-gia-tien-n-249710.html',\n",
              " 'https://ictnews.vietnamnet.vn/cuoc-song-so/ky-nguyen-biden-khoi-dau-su-xao-tron-o-thung-lung-silicon-275569.html']"
            ]
          },
          "metadata": {
            "tags": []
          },
          "execution_count": 34
        }
      ]
    }
  ]
}